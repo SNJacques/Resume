{
 "cells": [
  {
   "cell_type": "markdown",
   "metadata": {},
   "source": [
    "###Demonstrating cleaning data in Python & creating new SQL relational database:"
   ]
  },
  {
   "cell_type": "code",
   "execution_count": 2,
   "metadata": {},
   "outputs": [],
   "source": [
    "import pandas as pd\n",
    "import numpy as np\n",
    "from sklearn import preprocessing\n",
    "from sklearn.preprocessing import LabelEncoder\n",
    "import sqlalchemy"
   ]
  },
  {
   "cell_type": "code",
   "execution_count": 3,
   "metadata": {},
   "outputs": [],
   "source": [
    "engine = sqlalchemy.create_engine('sqlite:///res_data.db')"
   ]
  },
  {
   "cell_type": "code",
   "execution_count": 4,
   "metadata": {},
   "outputs": [],
   "source": [
    "%load_ext sql"
   ]
  },
  {
   "cell_type": "code",
   "execution_count": 5,
   "metadata": {},
   "outputs": [],
   "source": [
    "%sql sqlite:///res_data.db"
   ]
  },
  {
   "cell_type": "code",
   "execution_count": 65,
   "metadata": {},
   "outputs": [
    {
     "data": {
      "text/html": [
       "<div>\n",
       "<style scoped>\n",
       "    .dataframe tbody tr th:only-of-type {\n",
       "        vertical-align: middle;\n",
       "    }\n",
       "\n",
       "    .dataframe tbody tr th {\n",
       "        vertical-align: top;\n",
       "    }\n",
       "\n",
       "    .dataframe thead th {\n",
       "        text-align: right;\n",
       "    }\n",
       "</style>\n",
       "<table border=\"1\" class=\"dataframe\">\n",
       "  <thead>\n",
       "    <tr style=\"text-align: right;\">\n",
       "      <th></th>\n",
       "      <th>Neighborhood\\nCode</th>\n",
       "      <th>Account #</th>\n",
       "      <th>PARCELNB</th>\n",
       "      <th>PROPERTY_ADDRESS</th>\n",
       "      <th>LOCCITY</th>\n",
       "      <th>SUBNAME</th>\n",
       "      <th>MULTIPLE_BLDGS</th>\n",
       "      <th>ACCOUNT_TYPE</th>\n",
       "      <th>BLDG1_DESCRIPTION</th>\n",
       "      <th>BLDG1_DESIGN</th>\n",
       "      <th>...</th>\n",
       "      <th>OWNER_NAME</th>\n",
       "      <th>CARE_OF</th>\n",
       "      <th>MAILING_ADDR1</th>\n",
       "      <th>MAILING_ADDR2</th>\n",
       "      <th>CITY</th>\n",
       "      <th>STATE</th>\n",
       "      <th>ZIPCODE</th>\n",
       "      <th>LAND_VALUE</th>\n",
       "      <th>BLDG_VALUE</th>\n",
       "      <th>EXTRA_FEATURE_VALUE</th>\n",
       "    </tr>\n",
       "  </thead>\n",
       "  <tbody>\n",
       "    <tr>\n",
       "      <th>0</th>\n",
       "      <td>103</td>\n",
       "      <td>R0071420</td>\n",
       "      <td>146136416013</td>\n",
       "      <td>1042 8TH ST</td>\n",
       "      <td>BOULDER</td>\n",
       "      <td>ROSE HILL - BO</td>\n",
       "      <td>YES</td>\n",
       "      <td>RESIDENTIAL</td>\n",
       "      <td>SINGLE FAM RES IMPROVEMENTS</td>\n",
       "      <td>2-3 Story</td>\n",
       "      <td>...</td>\n",
       "      <td>2B9 8TH STREET LLC</td>\n",
       "      <td>NaN</td>\n",
       "      <td>1623 CENTRAL AVE STE 204</td>\n",
       "      <td>NaN</td>\n",
       "      <td>CHEYENNE</td>\n",
       "      <td>WY</td>\n",
       "      <td>82001</td>\n",
       "      <td>1035000</td>\n",
       "      <td>807000</td>\n",
       "      <td>0</td>\n",
       "    </tr>\n",
       "    <tr>\n",
       "      <th>1</th>\n",
       "      <td>107</td>\n",
       "      <td>R0000908</td>\n",
       "      <td>146125304001</td>\n",
       "      <td>2385 4TH ST</td>\n",
       "      <td>BOULDER</td>\n",
       "      <td>MAPLETON PARK - BO</td>\n",
       "      <td>NO</td>\n",
       "      <td>RESIDENTIAL</td>\n",
       "      <td>SINGLE FAM RES IMPROVEMENTS</td>\n",
       "      <td>2-3 Story</td>\n",
       "      <td>...</td>\n",
       "      <td>DUFOUR JEFFREY W &amp; CECILIA C DALEY</td>\n",
       "      <td>NaN</td>\n",
       "      <td>2385 4TH ST</td>\n",
       "      <td>NaN</td>\n",
       "      <td>BOULDER</td>\n",
       "      <td>CO</td>\n",
       "      <td>80302</td>\n",
       "      <td>1102000</td>\n",
       "      <td>915600</td>\n",
       "      <td>0</td>\n",
       "    </tr>\n",
       "    <tr>\n",
       "      <th>2</th>\n",
       "      <td>155</td>\n",
       "      <td>R0110294</td>\n",
       "      <td>157530104008</td>\n",
       "      <td>1486 SEIBERT CT</td>\n",
       "      <td>SUPERIOR</td>\n",
       "      <td>ROCK CREEK RANCH FLG 4A - SU</td>\n",
       "      <td>NO</td>\n",
       "      <td>RESIDENTIAL</td>\n",
       "      <td>SINGLE FAM RES IMPROVEMENTS</td>\n",
       "      <td>2-3 Story</td>\n",
       "      <td>...</td>\n",
       "      <td>TROTTER ERICA &amp; JOHN RYZIW</td>\n",
       "      <td>NaN</td>\n",
       "      <td>1486 S SEIBERT CT</td>\n",
       "      <td>NaN</td>\n",
       "      <td>SUPERIOR</td>\n",
       "      <td>CO</td>\n",
       "      <td>80027-8024</td>\n",
       "      <td>358000</td>\n",
       "      <td>256700</td>\n",
       "      <td>0</td>\n",
       "    </tr>\n",
       "    <tr>\n",
       "      <th>3</th>\n",
       "      <td>158</td>\n",
       "      <td>R0069754</td>\n",
       "      <td>157707417048</td>\n",
       "      <td>1400 ROCKMONT CIR</td>\n",
       "      <td>BOULDER</td>\n",
       "      <td>DEVILS THUMB 4 - BO</td>\n",
       "      <td>NO</td>\n",
       "      <td>RESIDENTIAL</td>\n",
       "      <td>SINGLE FAM RES IMPROVEMENTS</td>\n",
       "      <td>Split-level</td>\n",
       "      <td>...</td>\n",
       "      <td>TSK VENTURES LLC</td>\n",
       "      <td>NaN</td>\n",
       "      <td>10705 ALEXANDER MILL DR</td>\n",
       "      <td>NaN</td>\n",
       "      <td>CHARLOTTE</td>\n",
       "      <td>NC</td>\n",
       "      <td>28277</td>\n",
       "      <td>690000</td>\n",
       "      <td>266000</td>\n",
       "      <td>0</td>\n",
       "    </tr>\n",
       "    <tr>\n",
       "      <th>4</th>\n",
       "      <td>440</td>\n",
       "      <td>R0126278</td>\n",
       "      <td>146526314006</td>\n",
       "      <td>1609 HOLEMAN DR</td>\n",
       "      <td>ERIE</td>\n",
       "      <td>ARAPAHOE RIDGE REPLAT A - ER</td>\n",
       "      <td>NO</td>\n",
       "      <td>RESIDENTIAL</td>\n",
       "      <td>SINGLE FAM RES IMPROVEMENTS</td>\n",
       "      <td>2-3 Story</td>\n",
       "      <td>...</td>\n",
       "      <td>HAYES ADAM R</td>\n",
       "      <td>NaN</td>\n",
       "      <td>1609 HOLEMAN DR</td>\n",
       "      <td>NaN</td>\n",
       "      <td>ERIE</td>\n",
       "      <td>CO</td>\n",
       "      <td>80516</td>\n",
       "      <td>76000</td>\n",
       "      <td>385300</td>\n",
       "      <td>0</td>\n",
       "    </tr>\n",
       "  </tbody>\n",
       "</table>\n",
       "<p>5 rows × 37 columns</p>\n",
       "</div>"
      ],
      "text/plain": [
       "   Neighborhood\\nCode Account #      PARCELNB    PROPERTY_ADDRESS   LOCCITY  \\\n",
       "0                 103  R0071420  146136416013        1042 8TH ST    BOULDER   \n",
       "1                 107  R0000908  146125304001        2385 4TH ST    BOULDER   \n",
       "2                 155  R0110294  157530104008    1486 SEIBERT CT   SUPERIOR   \n",
       "3                 158  R0069754  157707417048  1400 ROCKMONT CIR    BOULDER   \n",
       "4                 440  R0126278  146526314006    1609 HOLEMAN DR       ERIE   \n",
       "\n",
       "                        SUBNAME MULTIPLE_BLDGS ACCOUNT_TYPE  \\\n",
       "0                ROSE HILL - BO            YES  RESIDENTIAL   \n",
       "1            MAPLETON PARK - BO             NO  RESIDENTIAL   \n",
       "2  ROCK CREEK RANCH FLG 4A - SU             NO  RESIDENTIAL   \n",
       "3           DEVILS THUMB 4 - BO             NO  RESIDENTIAL   \n",
       "4  ARAPAHOE RIDGE REPLAT A - ER             NO  RESIDENTIAL   \n",
       "\n",
       "             BLDG1_DESCRIPTION BLDG1_DESIGN  ...  \\\n",
       "0  SINGLE FAM RES IMPROVEMENTS    2-3 Story  ...   \n",
       "1  SINGLE FAM RES IMPROVEMENTS    2-3 Story  ...   \n",
       "2  SINGLE FAM RES IMPROVEMENTS    2-3 Story  ...   \n",
       "3  SINGLE FAM RES IMPROVEMENTS  Split-level  ...   \n",
       "4  SINGLE FAM RES IMPROVEMENTS    2-3 Story  ...   \n",
       "\n",
       "                           OWNER_NAME  CARE_OF             MAILING_ADDR1  \\\n",
       "0                  2B9 8TH STREET LLC      NaN  1623 CENTRAL AVE STE 204   \n",
       "1  DUFOUR JEFFREY W & CECILIA C DALEY      NaN               2385 4TH ST   \n",
       "2          TROTTER ERICA & JOHN RYZIW      NaN         1486 S SEIBERT CT   \n",
       "3                    TSK VENTURES LLC      NaN   10705 ALEXANDER MILL DR   \n",
       "4                        HAYES ADAM R      NaN           1609 HOLEMAN DR   \n",
       "\n",
       "   MAILING_ADDR2       CITY  STATE     ZIPCODE  LAND_VALUE  BLDG_VALUE  \\\n",
       "0            NaN   CHEYENNE     WY       82001     1035000      807000   \n",
       "1            NaN    BOULDER     CO       80302     1102000      915600   \n",
       "2            NaN   SUPERIOR     CO  80027-8024      358000      256700   \n",
       "3            NaN  CHARLOTTE     NC       28277      690000      266000   \n",
       "4            NaN       ERIE     CO       80516       76000      385300   \n",
       "\n",
       "   EXTRA_FEATURE_VALUE  \n",
       "0                    0  \n",
       "1                    0  \n",
       "2                    0  \n",
       "3                    0  \n",
       "4                    0  \n",
       "\n",
       "[5 rows x 37 columns]"
      ]
     },
     "execution_count": 65,
     "metadata": {},
     "output_type": "execute_result"
    }
   ],
   "source": [
    "data = pd.read_excel(\"2020-residential.xlsx\")\n",
    "data.head()"
   ]
  },
  {
   "cell_type": "code",
   "execution_count": 66,
   "metadata": {},
   "outputs": [
    {
     "name": "stdout",
     "output_type": "stream",
     "text": [
      "<class 'pandas.core.frame.DataFrame'>\n",
      "RangeIndex: 2850 entries, 0 to 2849\n",
      "Data columns (total 37 columns):\n",
      " #   Column                Non-Null Count  Dtype         \n",
      "---  ------                --------------  -----         \n",
      " 0   Neighborhood\n",
      "Code     2850 non-null   int64         \n",
      " 1   Account #             2850 non-null   object        \n",
      " 2   PARCELNB              2850 non-null   object        \n",
      " 3   PROPERTY_ADDRESS      2850 non-null   object        \n",
      " 4   LOCCITY               2850 non-null   object        \n",
      " 5   SUBNAME               2850 non-null   object        \n",
      " 6   MULTIPLE_BLDGS        2850 non-null   object        \n",
      " 7   ACCOUNT_TYPE          2850 non-null   object        \n",
      " 8   BLDG1_DESCRIPTION     2850 non-null   object        \n",
      " 9   BLDG1_DESIGN          2850 non-null   object        \n",
      " 10  BLDG1_YEAR_BUILT      2850 non-null   int64         \n",
      " 11  BEDROOMS              2850 non-null   int64         \n",
      " 12  FULL_BATHS            2850 non-null   int64         \n",
      " 13  THREE_QTR_BATHS       2850 non-null   int64         \n",
      " 14  HALF_BATHS            2850 non-null   int64         \n",
      " 15  ABOVE_GROUND_SQFT     2850 non-null   int64         \n",
      " 16  FINISHED_BSMT_SQFT    2850 non-null   int64         \n",
      " 17  UNFINISHED_BSMT_SQFT  2850 non-null   int64         \n",
      " 18  GARAGE_SQFT           2850 non-null   int64         \n",
      " 19  FINISHED_GARAGE_SQFT  2850 non-null   int64         \n",
      " 20  STUDIO_SQFT           2850 non-null   int64         \n",
      " 21  OTHER_BLDGS           2850 non-null   int64         \n",
      " 22  RECEPTION_NO          2850 non-null   int64         \n",
      " 23  SALE_DATE             2850 non-null   datetime64[ns]\n",
      " 24  SALE_PRICE            2850 non-null   int64         \n",
      " 25  Grantor 1             2847 non-null   object        \n",
      " 26  Grantee 1             2850 non-null   object        \n",
      " 27  OWNER_NAME            2850 non-null   object        \n",
      " 28  CARE_OF               11 non-null     object        \n",
      " 29  MAILING_ADDR1         2850 non-null   object        \n",
      " 30  MAILING_ADDR2         5 non-null      object        \n",
      " 31  CITY                  2849 non-null   object        \n",
      " 32  STATE                 2849 non-null   object        \n",
      " 33  ZIPCODE               2849 non-null   object        \n",
      " 34  LAND_VALUE            2850 non-null   int64         \n",
      " 35  BLDG_VALUE            2850 non-null   int64         \n",
      " 36  EXTRA_FEATURE_VALUE   2850 non-null   int64         \n",
      "dtypes: datetime64[ns](1), int64(18), object(18)\n",
      "memory usage: 824.0+ KB\n"
     ]
    }
   ],
   "source": [
    "data.info()"
   ]
  },
  {
   "cell_type": "code",
   "execution_count": 67,
   "metadata": {},
   "outputs": [],
   "source": [
    "#drop columns concerning purchaser info - dataset focused on specifics of properties of building sold\n",
    "data = data.drop(['PARCELNB', 'SUBNAME', 'RECEPTION_NO', 'Grantor 1', 'Grantee 1', 'OWNER_NAME', 'CARE_OF',\n",
    "                     'MAILING_ADDR1', 'MAILING_ADDR2', 'CITY', 'STATE', 'ZIPCODE'], axis='columns')"
   ]
  },
  {
   "cell_type": "code",
   "execution_count": 68,
   "metadata": {},
   "outputs": [
    {
     "data": {
      "text/plain": [
       "Neighborhood\\nCode      0\n",
       "Account #               0\n",
       "PROPERTY_ADDRESS        0\n",
       "LOCCITY                 0\n",
       "MULTIPLE_BLDGS          0\n",
       "ACCOUNT_TYPE            0\n",
       "BLDG1_DESCRIPTION       0\n",
       "BLDG1_DESIGN            0\n",
       "BLDG1_YEAR_BUILT        0\n",
       "BEDROOMS                0\n",
       "FULL_BATHS              0\n",
       "THREE_QTR_BATHS         0\n",
       "HALF_BATHS              0\n",
       "ABOVE_GROUND_SQFT       0\n",
       "FINISHED_BSMT_SQFT      0\n",
       "UNFINISHED_BSMT_SQFT    0\n",
       "GARAGE_SQFT             0\n",
       "FINISHED_GARAGE_SQFT    0\n",
       "STUDIO_SQFT             0\n",
       "OTHER_BLDGS             0\n",
       "SALE_DATE               0\n",
       "SALE_PRICE              0\n",
       "LAND_VALUE              0\n",
       "BLDG_VALUE              0\n",
       "EXTRA_FEATURE_VALUE     0\n",
       "dtype: int64"
      ]
     },
     "execution_count": 68,
     "metadata": {},
     "output_type": "execute_result"
    }
   ],
   "source": [
    "#check for any null values\n",
    "data.isna().sum()"
   ]
  },
  {
   "cell_type": "code",
   "execution_count": 69,
   "metadata": {},
   "outputs": [],
   "source": [
    "#rename columns for easier writing & understanding\n",
    "data.rename(columns = {\"Neighborhood\\nCode\": \"NCODE\", \"Account #\": \"ACCT#\", \"BLDG1_DESCRIPTION\": \"DESCRIP\", \n",
    "                           \"BLDG1_DESIGN\": \"DESIGN\", \"BLDG1_YEAR_BUILT\": \"YEAR_BUILT\"}, inplace=True)"
   ]
  },
  {
   "cell_type": "code",
   "execution_count": 70,
   "metadata": {
    "scrolled": true
   },
   "outputs": [],
   "source": [
    "#change all string values to upper-case for conformity\n",
    "data = data.apply(lambda x: x.astype(str).str.upper())"
   ]
  },
  {
   "cell_type": "code",
   "execution_count": 71,
   "metadata": {},
   "outputs": [
    {
     "name": "stdout",
     "output_type": "stream",
     "text": [
      "Full Data: 2850\n",
      "Unique Account: 2798\n"
     ]
    }
   ],
   "source": [
    "#Account numbers should be unique - if not likely duplicate data due to LLC change (not new sale) or input mistake\n",
    "#Check length of full database\n",
    "print(\"Full Data: \" + str(len(data)))\n",
    "#Check length of unique ACCT#\n",
    "acct = data[\"ACCT#\"]\n",
    "acct_set = set(acct)\n",
    "print(\"Unique Account: \" + str(len(acct_set)))"
   ]
  },
  {
   "cell_type": "code",
   "execution_count": 73,
   "metadata": {},
   "outputs": [
    {
     "name": "stdout",
     "output_type": "stream",
     "text": [
      "Duplicate Rows: 52\n"
     ]
    }
   ],
   "source": [
    "#Shows 52 missing rows, check for duplicates\n",
    "dup_rows = data[data[\"ACCT#\"].duplicated()]\n",
    "print(\"Duplicate Rows: \" + str(len(dup_rows)))\n",
    "#shows 52 rows are duplicates"
   ]
  },
  {
   "cell_type": "code",
   "execution_count": 74,
   "metadata": {},
   "outputs": [
    {
     "data": {
      "text/plain": [
       "(2798, 25)"
      ]
     },
     "execution_count": 74,
     "metadata": {},
     "output_type": "execute_result"
    }
   ],
   "source": [
    "#Drop duplicate rows\n",
    "data = data.drop_duplicates(subset=[\"ACCT#\"], keep = 'first')\n",
    "data.shape"
   ]
  },
  {
   "cell_type": "code",
   "execution_count": 75,
   "metadata": {},
   "outputs": [],
   "source": [
    "#Transform categorical variables into numeric representation - starting with LOCCITY\n",
    "le = preprocessing.LabelEncoder()\n",
    "data[\"LOCCITY\"] = le.fit_transform(data[\"LOCCITY\"])"
   ]
  },
  {
   "cell_type": "code",
   "execution_count": 76,
   "metadata": {},
   "outputs": [
    {
     "data": {
      "text/plain": [
       "['BOULDER',\n",
       " 'ERIE',\n",
       " 'LAFAYETTE',\n",
       " 'LONGMONT',\n",
       " 'LOUISVILLE',\n",
       " 'LYONS',\n",
       " 'NEDERLAND',\n",
       " 'SUPERIOR',\n",
       " 'UNINCORPORATED',\n",
       " 'WARD']"
      ]
     },
     "execution_count": 76,
     "metadata": {},
     "output_type": "execute_result"
    }
   ],
   "source": [
    "#Save list of categorical variables\n",
    "city_list = list(le.classes_)\n",
    "city_list"
   ]
  },
  {
   "cell_type": "code",
   "execution_count": 77,
   "metadata": {},
   "outputs": [
    {
     "data": {
      "text/html": [
       "<div>\n",
       "<style scoped>\n",
       "    .dataframe tbody tr th:only-of-type {\n",
       "        vertical-align: middle;\n",
       "    }\n",
       "\n",
       "    .dataframe tbody tr th {\n",
       "        vertical-align: top;\n",
       "    }\n",
       "\n",
       "    .dataframe thead th {\n",
       "        text-align: right;\n",
       "    }\n",
       "</style>\n",
       "<table border=\"1\" class=\"dataframe\">\n",
       "  <thead>\n",
       "    <tr style=\"text-align: right;\">\n",
       "      <th></th>\n",
       "      <th>0</th>\n",
       "    </tr>\n",
       "  </thead>\n",
       "  <tbody>\n",
       "    <tr>\n",
       "      <th>0</th>\n",
       "      <td>BOULDER</td>\n",
       "    </tr>\n",
       "    <tr>\n",
       "      <th>1</th>\n",
       "      <td>ERIE</td>\n",
       "    </tr>\n",
       "    <tr>\n",
       "      <th>2</th>\n",
       "      <td>LAFAYETTE</td>\n",
       "    </tr>\n",
       "    <tr>\n",
       "      <th>3</th>\n",
       "      <td>LONGMONT</td>\n",
       "    </tr>\n",
       "    <tr>\n",
       "      <th>4</th>\n",
       "      <td>LOUISVILLE</td>\n",
       "    </tr>\n",
       "    <tr>\n",
       "      <th>5</th>\n",
       "      <td>LYONS</td>\n",
       "    </tr>\n",
       "    <tr>\n",
       "      <th>6</th>\n",
       "      <td>NEDERLAND</td>\n",
       "    </tr>\n",
       "    <tr>\n",
       "      <th>7</th>\n",
       "      <td>SUPERIOR</td>\n",
       "    </tr>\n",
       "    <tr>\n",
       "      <th>8</th>\n",
       "      <td>UNINCORPORATED</td>\n",
       "    </tr>\n",
       "    <tr>\n",
       "      <th>9</th>\n",
       "      <td>WARD</td>\n",
       "    </tr>\n",
       "  </tbody>\n",
       "</table>\n",
       "</div>"
      ],
      "text/plain": [
       "                0\n",
       "0         BOULDER\n",
       "1            ERIE\n",
       "2       LAFAYETTE\n",
       "3        LONGMONT\n",
       "4      LOUISVILLE\n",
       "5           LYONS\n",
       "6       NEDERLAND\n",
       "7        SUPERIOR\n",
       "8  UNINCORPORATED\n",
       "9            WARD"
      ]
     },
     "execution_count": 77,
     "metadata": {},
     "output_type": "execute_result"
    }
   ],
   "source": [
    "#Convert list to dataframe\n",
    "city_df = pd.DataFrame(city_list)\n",
    "city_df"
   ]
  },
  {
   "cell_type": "code",
   "execution_count": 78,
   "metadata": {},
   "outputs": [],
   "source": [
    "#Save dataframe as new SQL Table in database\n",
    "city_df.to_sql('city', engine, index=True)"
   ]
  },
  {
   "cell_type": "code",
   "execution_count": 79,
   "metadata": {},
   "outputs": [
    {
     "name": "stdout",
     "output_type": "stream",
     "text": [
      " * sqlite:///res_data.db\n",
      "Done.\n"
     ]
    },
    {
     "data": {
      "text/html": [
       "<table>\n",
       "    <tr>\n",
       "        <th>index</th>\n",
       "        <th>0</th>\n",
       "    </tr>\n",
       "    <tr>\n",
       "        <td>0</td>\n",
       "        <td>BOULDER</td>\n",
       "    </tr>\n",
       "    <tr>\n",
       "        <td>1</td>\n",
       "        <td>ERIE</td>\n",
       "    </tr>\n",
       "    <tr>\n",
       "        <td>2</td>\n",
       "        <td>LAFAYETTE</td>\n",
       "    </tr>\n",
       "    <tr>\n",
       "        <td>3</td>\n",
       "        <td>LONGMONT</td>\n",
       "    </tr>\n",
       "    <tr>\n",
       "        <td>4</td>\n",
       "        <td>LOUISVILLE</td>\n",
       "    </tr>\n",
       "    <tr>\n",
       "        <td>5</td>\n",
       "        <td>LYONS</td>\n",
       "    </tr>\n",
       "    <tr>\n",
       "        <td>6</td>\n",
       "        <td>NEDERLAND</td>\n",
       "    </tr>\n",
       "    <tr>\n",
       "        <td>7</td>\n",
       "        <td>SUPERIOR</td>\n",
       "    </tr>\n",
       "    <tr>\n",
       "        <td>8</td>\n",
       "        <td>UNINCORPORATED</td>\n",
       "    </tr>\n",
       "    <tr>\n",
       "        <td>9</td>\n",
       "        <td>WARD</td>\n",
       "    </tr>\n",
       "</table>"
      ],
      "text/plain": [
       "[(0, 'BOULDER'),\n",
       " (1, 'ERIE'),\n",
       " (2, 'LAFAYETTE'),\n",
       " (3, 'LONGMONT'),\n",
       " (4, 'LOUISVILLE'),\n",
       " (5, 'LYONS'),\n",
       " (6, 'NEDERLAND'),\n",
       " (7, 'SUPERIOR'),\n",
       " (8, 'UNINCORPORATED'),\n",
       " (9, 'WARD')]"
      ]
     },
     "execution_count": 79,
     "metadata": {},
     "output_type": "execute_result"
    }
   ],
   "source": [
    "#Check to make sure table imported correctly\n",
    "%sql SELECT * FROM city"
   ]
  },
  {
   "cell_type": "code",
   "execution_count": 80,
   "metadata": {},
   "outputs": [
    {
     "name": "stdout",
     "output_type": "stream",
     "text": [
      " * sqlite:///res_data.db\n",
      "Done.\n",
      " * sqlite:///res_data.db\n",
      "Done.\n"
     ]
    },
    {
     "data": {
      "text/html": [
       "<table>\n",
       "    <tr>\n",
       "        <th>1</th>\n",
       "    </tr>\n",
       "</table>"
      ],
      "text/plain": [
       "[]"
      ]
     },
     "execution_count": 80,
     "metadata": {},
     "output_type": "execute_result"
    }
   ],
   "source": [
    "#Rename table columns\n",
    "%sql ALTER TABLE city RENAME COLUMN 'Index' TO 'city_code';\n",
    "%sql ALTER TABLE city RENAME COLUMN '0' TO 'city_name';"
   ]
  },
  {
   "cell_type": "code",
   "execution_count": 81,
   "metadata": {},
   "outputs": [
    {
     "name": "stdout",
     "output_type": "stream",
     "text": [
      " * sqlite:///res_data.db\n",
      "Done.\n"
     ]
    },
    {
     "data": {
      "text/html": [
       "<table>\n",
       "    <tr>\n",
       "        <th>city_code</th>\n",
       "        <th>city_name</th>\n",
       "    </tr>\n",
       "    <tr>\n",
       "        <td>0</td>\n",
       "        <td>BOULDER</td>\n",
       "    </tr>\n",
       "    <tr>\n",
       "        <td>1</td>\n",
       "        <td>ERIE</td>\n",
       "    </tr>\n",
       "    <tr>\n",
       "        <td>2</td>\n",
       "        <td>LAFAYETTE</td>\n",
       "    </tr>\n",
       "    <tr>\n",
       "        <td>3</td>\n",
       "        <td>LONGMONT</td>\n",
       "    </tr>\n",
       "    <tr>\n",
       "        <td>4</td>\n",
       "        <td>LOUISVILLE</td>\n",
       "    </tr>\n",
       "    <tr>\n",
       "        <td>5</td>\n",
       "        <td>LYONS</td>\n",
       "    </tr>\n",
       "    <tr>\n",
       "        <td>6</td>\n",
       "        <td>NEDERLAND</td>\n",
       "    </tr>\n",
       "    <tr>\n",
       "        <td>7</td>\n",
       "        <td>SUPERIOR</td>\n",
       "    </tr>\n",
       "    <tr>\n",
       "        <td>8</td>\n",
       "        <td>UNINCORPORATED</td>\n",
       "    </tr>\n",
       "    <tr>\n",
       "        <td>9</td>\n",
       "        <td>WARD</td>\n",
       "    </tr>\n",
       "</table>"
      ],
      "text/plain": [
       "[(0, 'BOULDER'),\n",
       " (1, 'ERIE'),\n",
       " (2, 'LAFAYETTE'),\n",
       " (3, 'LONGMONT'),\n",
       " (4, 'LOUISVILLE'),\n",
       " (5, 'LYONS'),\n",
       " (6, 'NEDERLAND'),\n",
       " (7, 'SUPERIOR'),\n",
       " (8, 'UNINCORPORATED'),\n",
       " (9, 'WARD')]"
      ]
     },
     "execution_count": 81,
     "metadata": {},
     "output_type": "execute_result"
    }
   ],
   "source": [
    "#Check table again to make sure correct\n",
    "%sql SELECT * FROM city"
   ]
  },
  {
   "cell_type": "code",
   "execution_count": 82,
   "metadata": {},
   "outputs": [],
   "source": [
    "#Continue converting categorical variables - multiple_bldgs\n",
    "data[\"MULTIPLE_BLDGS\"] = le.fit_transform(data[\"MULTIPLE_BLDGS\"])\n",
    "bldg_list = list(le.classes_)\n",
    "bldg_df = pd.DataFrame(bldg_list)\n",
    "bldg_df.to_sql('multiple_bldgs', engine, index=True)"
   ]
  },
  {
   "cell_type": "code",
   "execution_count": 83,
   "metadata": {},
   "outputs": [
    {
     "name": "stdout",
     "output_type": "stream",
     "text": [
      " * sqlite:///res_data.db\n",
      "Done.\n"
     ]
    },
    {
     "data": {
      "text/html": [
       "<table>\n",
       "    <tr>\n",
       "        <th>index</th>\n",
       "        <th>0</th>\n",
       "    </tr>\n",
       "    <tr>\n",
       "        <td>0</td>\n",
       "        <td>NO</td>\n",
       "    </tr>\n",
       "    <tr>\n",
       "        <td>1</td>\n",
       "        <td>YES</td>\n",
       "    </tr>\n",
       "</table>"
      ],
      "text/plain": [
       "[(0, 'NO'), (1, 'YES')]"
      ]
     },
     "execution_count": 83,
     "metadata": {},
     "output_type": "execute_result"
    }
   ],
   "source": [
    "%sql SELECT * FROM multiple_bldgs"
   ]
  },
  {
   "cell_type": "code",
   "execution_count": 84,
   "metadata": {},
   "outputs": [
    {
     "name": "stdout",
     "output_type": "stream",
     "text": [
      " * sqlite:///res_data.db\n",
      "Done.\n",
      "Done.\n"
     ]
    },
    {
     "data": {
      "text/html": [
       "<table>\n",
       "    <tr>\n",
       "        <th>1</th>\n",
       "    </tr>\n",
       "</table>"
      ],
      "text/plain": [
       "[]"
      ]
     },
     "execution_count": 84,
     "metadata": {},
     "output_type": "execute_result"
    }
   ],
   "source": [
    "%%sql \n",
    "ALTER TABLE multiple_bldgs RENAME COLUMN 'Index' TO 'mb_code';\n",
    "ALTER TABLE multiple_bldgs RENAME COLUMN '0' TO 'Y/N';"
   ]
  },
  {
   "cell_type": "code",
   "execution_count": 85,
   "metadata": {},
   "outputs": [
    {
     "name": "stdout",
     "output_type": "stream",
     "text": [
      " * sqlite:///res_data.db\n",
      "Done.\n"
     ]
    },
    {
     "data": {
      "text/html": [
       "<table>\n",
       "    <tr>\n",
       "        <th>mb_code</th>\n",
       "        <th>Y/N</th>\n",
       "    </tr>\n",
       "    <tr>\n",
       "        <td>0</td>\n",
       "        <td>NO</td>\n",
       "    </tr>\n",
       "    <tr>\n",
       "        <td>1</td>\n",
       "        <td>YES</td>\n",
       "    </tr>\n",
       "</table>"
      ],
      "text/plain": [
       "[(0, 'NO'), (1, 'YES')]"
      ]
     },
     "execution_count": 85,
     "metadata": {},
     "output_type": "execute_result"
    }
   ],
   "source": [
    "%sql SELECT * FROM multiple_bldgs"
   ]
  },
  {
   "cell_type": "code",
   "execution_count": 87,
   "metadata": {},
   "outputs": [],
   "source": [
    "#Convert account_type\n",
    "data[\"ACCOUNT_TYPE\"] = le.fit_transform(data[\"ACCOUNT_TYPE\"])\n",
    "at_list = list(le.classes_)\n",
    "at_df = pd.DataFrame(at_list)\n",
    "at_df.to_sql('account_type', engine, index=True)"
   ]
  },
  {
   "cell_type": "code",
   "execution_count": 88,
   "metadata": {},
   "outputs": [
    {
     "name": "stdout",
     "output_type": "stream",
     "text": [
      " * sqlite:///res_data.db\n",
      "Done.\n",
      "Done.\n"
     ]
    },
    {
     "data": {
      "text/html": [
       "<table>\n",
       "    <tr>\n",
       "        <th>1</th>\n",
       "    </tr>\n",
       "</table>"
      ],
      "text/plain": [
       "[]"
      ]
     },
     "execution_count": 88,
     "metadata": {},
     "output_type": "execute_result"
    }
   ],
   "source": [
    "%%sql\n",
    "ALTER TABLE account_type RENAME COLUMN 'Index' TO 'acct_type_code';\n",
    "ALTER TABLE account_type RENAME COLUMN '0' TO 'acct_type_desc';"
   ]
  },
  {
   "cell_type": "code",
   "execution_count": 89,
   "metadata": {},
   "outputs": [
    {
     "name": "stdout",
     "output_type": "stream",
     "text": [
      " * sqlite:///res_data.db\n",
      "Done.\n"
     ]
    },
    {
     "data": {
      "text/html": [
       "<table>\n",
       "    <tr>\n",
       "        <th>acct_type_code</th>\n",
       "        <th>acct_type_desc</th>\n",
       "    </tr>\n",
       "    <tr>\n",
       "        <td>0</td>\n",
       "        <td>AFFORDABLE RES</td>\n",
       "    </tr>\n",
       "    <tr>\n",
       "        <td>1</td>\n",
       "        <td>AGRICULTURAL</td>\n",
       "    </tr>\n",
       "    <tr>\n",
       "        <td>2</td>\n",
       "        <td>EXEMPT</td>\n",
       "    </tr>\n",
       "    <tr>\n",
       "        <td>3</td>\n",
       "        <td>MANUFACTURED HOME</td>\n",
       "    </tr>\n",
       "    <tr>\n",
       "        <td>4</td>\n",
       "        <td>PART EXEMPT</td>\n",
       "    </tr>\n",
       "    <tr>\n",
       "        <td>5</td>\n",
       "        <td>RESIDENT LAND</td>\n",
       "    </tr>\n",
       "    <tr>\n",
       "        <td>6</td>\n",
       "        <td>RESIDENTIAL</td>\n",
       "    </tr>\n",
       "    <tr>\n",
       "        <td>7</td>\n",
       "        <td>RESIDENTIAL CONDO</td>\n",
       "    </tr>\n",
       "</table>"
      ],
      "text/plain": [
       "[(0, 'AFFORDABLE RES'),\n",
       " (1, 'AGRICULTURAL'),\n",
       " (2, 'EXEMPT'),\n",
       " (3, 'MANUFACTURED HOME'),\n",
       " (4, 'PART EXEMPT'),\n",
       " (5, 'RESIDENT LAND'),\n",
       " (6, 'RESIDENTIAL'),\n",
       " (7, 'RESIDENTIAL CONDO')]"
      ]
     },
     "execution_count": 89,
     "metadata": {},
     "output_type": "execute_result"
    }
   ],
   "source": [
    "%sql SELECT * FROM account_type"
   ]
  },
  {
   "cell_type": "code",
   "execution_count": 90,
   "metadata": {},
   "outputs": [],
   "source": [
    "#Convert description\n",
    "data[\"DESCRIP\"] = le.fit_transform(data[\"DESCRIP\"])\n",
    "desc_list = list(le.classes_)\n",
    "desc_df = pd.DataFrame(desc_list)\n",
    "desc_df.to_sql('description', engine, index=True)"
   ]
  },
  {
   "cell_type": "code",
   "execution_count": 91,
   "metadata": {},
   "outputs": [
    {
     "name": "stdout",
     "output_type": "stream",
     "text": [
      " * sqlite:///res_data.db\n",
      "Done.\n",
      "Done.\n"
     ]
    },
    {
     "data": {
      "text/html": [
       "<table>\n",
       "    <tr>\n",
       "        <th>1</th>\n",
       "    </tr>\n",
       "</table>"
      ],
      "text/plain": [
       "[]"
      ]
     },
     "execution_count": 91,
     "metadata": {},
     "output_type": "execute_result"
    }
   ],
   "source": [
    "%%sql\n",
    "ALTER TABLE description RENAME COLUMN 'Index' TO 'desc_code';\n",
    "ALTER TABLE description RENAME COLUMN '0' TO 'desc_full'"
   ]
  },
  {
   "cell_type": "code",
   "execution_count": 92,
   "metadata": {},
   "outputs": [
    {
     "name": "stdout",
     "output_type": "stream",
     "text": [
      " * sqlite:///res_data.db\n",
      "Done.\n"
     ]
    },
    {
     "data": {
      "text/html": [
       "<table>\n",
       "    <tr>\n",
       "        <th>desc_code</th>\n",
       "        <th>desc_full</th>\n",
       "    </tr>\n",
       "    <tr>\n",
       "        <td>0</td>\n",
       "        <td>CONDOS-IMPROVEMENTS</td>\n",
       "    </tr>\n",
       "    <tr>\n",
       "        <td>1</td>\n",
       "        <td>DUP/TRIPLEX IMPROVEMENTS</td>\n",
       "    </tr>\n",
       "    <tr>\n",
       "        <td>2</td>\n",
       "        <td>EX CHARITABLE RES IMPS</td>\n",
       "    </tr>\n",
       "    <tr>\n",
       "        <td>3</td>\n",
       "        <td>FARM/RANCH RESIDENTIAL IMPROVEMENTS</td>\n",
       "    </tr>\n",
       "    <tr>\n",
       "        <td>4</td>\n",
       "        <td>MANUFACTURED HOUSING IMPROVEMENTS</td>\n",
       "    </tr>\n",
       "    <tr>\n",
       "        <td>5</td>\n",
       "        <td>SINGLE FAM RES IMPROVEMENTS</td>\n",
       "    </tr>\n",
       "</table>"
      ],
      "text/plain": [
       "[(0, 'CONDOS-IMPROVEMENTS'),\n",
       " (1, 'DUP/TRIPLEX IMPROVEMENTS'),\n",
       " (2, 'EX CHARITABLE RES IMPS'),\n",
       " (3, 'FARM/RANCH RESIDENTIAL IMPROVEMENTS'),\n",
       " (4, 'MANUFACTURED HOUSING IMPROVEMENTS'),\n",
       " (5, 'SINGLE FAM RES IMPROVEMENTS')]"
      ]
     },
     "execution_count": 92,
     "metadata": {},
     "output_type": "execute_result"
    }
   ],
   "source": [
    "%sql SELECT * FROM description"
   ]
  },
  {
   "cell_type": "code",
   "execution_count": null,
   "metadata": {},
   "outputs": [],
   "source": [
    "#Convert design"
   ]
  },
  {
   "cell_type": "code",
   "execution_count": 93,
   "metadata": {},
   "outputs": [],
   "source": [
    "data[\"DESIGN\"] = le.fit_transform(data[\"DESIGN\"])\n",
    "design_list = list(le.classes_)\n",
    "design_df = pd.DataFrame(design_list)\n",
    "design_df.to_sql('design', engine, index=True)"
   ]
  },
  {
   "cell_type": "code",
   "execution_count": 94,
   "metadata": {},
   "outputs": [
    {
     "name": "stdout",
     "output_type": "stream",
     "text": [
      " * sqlite:///res_data.db\n",
      "Done.\n",
      "Done.\n"
     ]
    },
    {
     "data": {
      "text/html": [
       "<table>\n",
       "    <tr>\n",
       "        <th>1</th>\n",
       "    </tr>\n",
       "</table>"
      ],
      "text/plain": [
       "[]"
      ]
     },
     "execution_count": 94,
     "metadata": {},
     "output_type": "execute_result"
    }
   ],
   "source": [
    "%%sql\n",
    "ALTER TABLE design RENAME COLUMN 'Index' TO 'design_code';\n",
    "ALTER TABLE design RENAME COLUMN '0' TO 'design_desc';"
   ]
  },
  {
   "cell_type": "code",
   "execution_count": 96,
   "metadata": {},
   "outputs": [
    {
     "name": "stdout",
     "output_type": "stream",
     "text": [
      " * sqlite:///res_data.db\n",
      "Done.\n"
     ]
    },
    {
     "data": {
      "text/html": [
       "<table>\n",
       "    <tr>\n",
       "        <th>design_code</th>\n",
       "        <th>design_desc</th>\n",
       "    </tr>\n",
       "    <tr>\n",
       "        <td>0</td>\n",
       "        <td>1 STORY - RANCH</td>\n",
       "    </tr>\n",
       "    <tr>\n",
       "        <td>1</td>\n",
       "        <td>1-STORY CONDO</td>\n",
       "    </tr>\n",
       "    <tr>\n",
       "        <td>2</td>\n",
       "        <td>1-STORY TWNHM</td>\n",
       "    </tr>\n",
       "    <tr>\n",
       "        <td>3</td>\n",
       "        <td>1-STORY TWNHM STYLE CONDO</td>\n",
       "    </tr>\n",
       "    <tr>\n",
       "        <td>4</td>\n",
       "        <td>2-3 STORY</td>\n",
       "    </tr>\n",
       "    <tr>\n",
       "        <td>5</td>\n",
       "        <td>A-FRAME</td>\n",
       "    </tr>\n",
       "    <tr>\n",
       "        <td>6</td>\n",
       "        <td>BI-LEVEL</td>\n",
       "    </tr>\n",
       "    <tr>\n",
       "        <td>7</td>\n",
       "        <td>DETACHED MULTI-STORY CONDO</td>\n",
       "    </tr>\n",
       "    <tr>\n",
       "        <td>8</td>\n",
       "        <td>DOUBLE WIDE</td>\n",
       "    </tr>\n",
       "    <tr>\n",
       "        <td>9</td>\n",
       "        <td>GARAGE DETACHED RESIDENTIAL</td>\n",
       "    </tr>\n",
       "    <tr>\n",
       "        <td>10</td>\n",
       "        <td>MODULAR</td>\n",
       "    </tr>\n",
       "    <tr>\n",
       "        <td>11</td>\n",
       "        <td>MULTI STORY- TOWNHOUSE</td>\n",
       "    </tr>\n",
       "    <tr>\n",
       "        <td>12</td>\n",
       "        <td>MULTI-STORY CONDO</td>\n",
       "    </tr>\n",
       "    <tr>\n",
       "        <td>13</td>\n",
       "        <td>MULTI-STORY TWNHM STYLE CONDO</td>\n",
       "    </tr>\n",
       "    <tr>\n",
       "        <td>14</td>\n",
       "        <td>PAIRED HOMES</td>\n",
       "    </tr>\n",
       "    <tr>\n",
       "        <td>15</td>\n",
       "        <td>PATIO HOMES</td>\n",
       "    </tr>\n",
       "    <tr>\n",
       "        <td>16</td>\n",
       "        <td>PURGED MANUFACTURED HOME</td>\n",
       "    </tr>\n",
       "    <tr>\n",
       "        <td>17</td>\n",
       "        <td>SINGLE WIDE</td>\n",
       "    </tr>\n",
       "    <tr>\n",
       "        <td>18</td>\n",
       "        <td>SPLIT-LEVEL</td>\n",
       "    </tr>\n",
       "</table>"
      ],
      "text/plain": [
       "[(0, '1 STORY - RANCH'),\n",
       " (1, '1-STORY CONDO'),\n",
       " (2, '1-STORY TWNHM'),\n",
       " (3, '1-STORY TWNHM STYLE CONDO'),\n",
       " (4, '2-3 STORY'),\n",
       " (5, 'A-FRAME'),\n",
       " (6, 'BI-LEVEL'),\n",
       " (7, 'DETACHED MULTI-STORY CONDO'),\n",
       " (8, 'DOUBLE WIDE'),\n",
       " (9, 'GARAGE DETACHED RESIDENTIAL'),\n",
       " (10, 'MODULAR'),\n",
       " (11, 'MULTI STORY- TOWNHOUSE'),\n",
       " (12, 'MULTI-STORY CONDO'),\n",
       " (13, 'MULTI-STORY TWNHM STYLE CONDO'),\n",
       " (14, 'PAIRED HOMES'),\n",
       " (15, 'PATIO HOMES'),\n",
       " (16, 'PURGED MANUFACTURED HOME'),\n",
       " (17, 'SINGLE WIDE'),\n",
       " (18, 'SPLIT-LEVEL')]"
      ]
     },
     "execution_count": 96,
     "metadata": {},
     "output_type": "execute_result"
    }
   ],
   "source": [
    "%sql SELECT * FROM design"
   ]
  },
  {
   "cell_type": "code",
   "execution_count": 97,
   "metadata": {},
   "outputs": [],
   "source": [
    "#Finally, convert rest of table data into its own table\n",
    "data.to_sql('res_info', engine, index=False)"
   ]
  },
  {
   "cell_type": "code",
   "execution_count": 7,
   "metadata": {},
   "outputs": [
    {
     "name": "stdout",
     "output_type": "stream",
     "text": [
      " * sqlite:///res_data.db\n",
      "Done.\n"
     ]
    },
    {
     "data": {
      "text/html": [
       "<table>\n",
       "    <tr>\n",
       "        <th>NCODE</th>\n",
       "        <th>ACCT#</th>\n",
       "        <th>PROPERTY_ADDRESS</th>\n",
       "        <th>LOCCITY</th>\n",
       "        <th>MULTIPLE_BLDGS</th>\n",
       "        <th>ACCOUNT_TYPE</th>\n",
       "        <th>DESCRIP</th>\n",
       "        <th>DESIGN</th>\n",
       "        <th>YEAR_BUILT</th>\n",
       "        <th>BEDROOMS</th>\n",
       "        <th>FULL_BATHS</th>\n",
       "        <th>THREE_QTR_BATHS</th>\n",
       "        <th>HALF_BATHS</th>\n",
       "        <th>ABOVE_GROUND_SQFT</th>\n",
       "        <th>FINISHED_BSMT_SQFT</th>\n",
       "        <th>UNFINISHED_BSMT_SQFT</th>\n",
       "        <th>GARAGE_SQFT</th>\n",
       "        <th>FINISHED_GARAGE_SQFT</th>\n",
       "        <th>STUDIO_SQFT</th>\n",
       "        <th>OTHER_BLDGS</th>\n",
       "        <th>SALE_DATE</th>\n",
       "        <th>SALE_PRICE</th>\n",
       "        <th>LAND_VALUE</th>\n",
       "        <th>BLDG_VALUE</th>\n",
       "        <th>EXTRA_FEATURE_VALUE</th>\n",
       "    </tr>\n",
       "    <tr>\n",
       "        <td>103</td>\n",
       "        <td>R0071420</td>\n",
       "        <td>1042 8TH ST </td>\n",
       "        <td>0</td>\n",
       "        <td>1</td>\n",
       "        <td>6</td>\n",
       "        <td>5</td>\n",
       "        <td>4</td>\n",
       "        <td>2000</td>\n",
       "        <td>5</td>\n",
       "        <td>5</td>\n",
       "        <td>0</td>\n",
       "        <td>1</td>\n",
       "        <td>2658</td>\n",
       "        <td>1117</td>\n",
       "        <td>625</td>\n",
       "        <td>462</td>\n",
       "        <td>0</td>\n",
       "        <td>330</td>\n",
       "        <td>0</td>\n",
       "        <td>2020-01-02</td>\n",
       "        <td>1842000</td>\n",
       "        <td>1035000</td>\n",
       "        <td>807000</td>\n",
       "        <td>0</td>\n",
       "    </tr>\n",
       "    <tr>\n",
       "        <td>107</td>\n",
       "        <td>R0000908</td>\n",
       "        <td>2385 4TH ST </td>\n",
       "        <td>0</td>\n",
       "        <td>0</td>\n",
       "        <td>6</td>\n",
       "        <td>5</td>\n",
       "        <td>4</td>\n",
       "        <td>1969</td>\n",
       "        <td>4</td>\n",
       "        <td>1</td>\n",
       "        <td>2</td>\n",
       "        <td>1</td>\n",
       "        <td>2430</td>\n",
       "        <td>617</td>\n",
       "        <td>0</td>\n",
       "        <td>536</td>\n",
       "        <td>0</td>\n",
       "        <td>0</td>\n",
       "        <td>0</td>\n",
       "        <td>2020-01-02</td>\n",
       "        <td>1750000</td>\n",
       "        <td>1102000</td>\n",
       "        <td>915600</td>\n",
       "        <td>0</td>\n",
       "    </tr>\n",
       "    <tr>\n",
       "        <td>155</td>\n",
       "        <td>R0110294</td>\n",
       "        <td>1486 SEIBERT CT </td>\n",
       "        <td>7</td>\n",
       "        <td>0</td>\n",
       "        <td>6</td>\n",
       "        <td>5</td>\n",
       "        <td>4</td>\n",
       "        <td>1991</td>\n",
       "        <td>4</td>\n",
       "        <td>1</td>\n",
       "        <td>2</td>\n",
       "        <td>0</td>\n",
       "        <td>2212</td>\n",
       "        <td>316</td>\n",
       "        <td>315</td>\n",
       "        <td>680</td>\n",
       "        <td>0</td>\n",
       "        <td>0</td>\n",
       "        <td>0</td>\n",
       "        <td>2020-01-02</td>\n",
       "        <td>610000</td>\n",
       "        <td>358000</td>\n",
       "        <td>256700</td>\n",
       "        <td>0</td>\n",
       "    </tr>\n",
       "    <tr>\n",
       "        <td>158</td>\n",
       "        <td>R0069754</td>\n",
       "        <td>1400 ROCKMONT CIR </td>\n",
       "        <td>0</td>\n",
       "        <td>0</td>\n",
       "        <td>6</td>\n",
       "        <td>5</td>\n",
       "        <td>18</td>\n",
       "        <td>1978</td>\n",
       "        <td>3</td>\n",
       "        <td>2</td>\n",
       "        <td>0</td>\n",
       "        <td>0</td>\n",
       "        <td>1082</td>\n",
       "        <td>552</td>\n",
       "        <td>0</td>\n",
       "        <td>460</td>\n",
       "        <td>0</td>\n",
       "        <td>0</td>\n",
       "        <td>0</td>\n",
       "        <td>2020-01-02</td>\n",
       "        <td>1200000</td>\n",
       "        <td>690000</td>\n",
       "        <td>266000</td>\n",
       "        <td>0</td>\n",
       "    </tr>\n",
       "    <tr>\n",
       "        <td>440</td>\n",
       "        <td>R0126278</td>\n",
       "        <td>1609 HOLEMAN DR </td>\n",
       "        <td>1</td>\n",
       "        <td>0</td>\n",
       "        <td>6</td>\n",
       "        <td>5</td>\n",
       "        <td>4</td>\n",
       "        <td>1997</td>\n",
       "        <td>4</td>\n",
       "        <td>2</td>\n",
       "        <td>1</td>\n",
       "        <td>1</td>\n",
       "        <td>1825</td>\n",
       "        <td>572</td>\n",
       "        <td>24</td>\n",
       "        <td>440</td>\n",
       "        <td>0</td>\n",
       "        <td>0</td>\n",
       "        <td>0</td>\n",
       "        <td>2020-01-02</td>\n",
       "        <td>450000</td>\n",
       "        <td>76000</td>\n",
       "        <td>385300</td>\n",
       "        <td>0</td>\n",
       "    </tr>\n",
       "    <tr>\n",
       "        <td>440</td>\n",
       "        <td>R0607799</td>\n",
       "        <td>945 GRENVILLE CIR </td>\n",
       "        <td>1</td>\n",
       "        <td>0</td>\n",
       "        <td>6</td>\n",
       "        <td>5</td>\n",
       "        <td>4</td>\n",
       "        <td>2019</td>\n",
       "        <td>6</td>\n",
       "        <td>2</td>\n",
       "        <td>2</td>\n",
       "        <td>1</td>\n",
       "        <td>4356</td>\n",
       "        <td>0</td>\n",
       "        <td>1088</td>\n",
       "        <td>764</td>\n",
       "        <td>0</td>\n",
       "        <td>0</td>\n",
       "        <td>0</td>\n",
       "        <td>2020-01-02</td>\n",
       "        <td>696900</td>\n",
       "        <td>99000</td>\n",
       "        <td>561100</td>\n",
       "        <td>0</td>\n",
       "    </tr>\n",
       "    <tr>\n",
       "        <td>440</td>\n",
       "        <td>R0608732</td>\n",
       "        <td>913 SANDSTONE CIR </td>\n",
       "        <td>1</td>\n",
       "        <td>0</td>\n",
       "        <td>6</td>\n",
       "        <td>5</td>\n",
       "        <td>4</td>\n",
       "        <td>2019</td>\n",
       "        <td>5</td>\n",
       "        <td>4</td>\n",
       "        <td>0</td>\n",
       "        <td>0</td>\n",
       "        <td>3084</td>\n",
       "        <td>0</td>\n",
       "        <td>1456</td>\n",
       "        <td>700</td>\n",
       "        <td>0</td>\n",
       "        <td>0</td>\n",
       "        <td>0</td>\n",
       "        <td>2020-01-02</td>\n",
       "        <td>654400</td>\n",
       "        <td>87000</td>\n",
       "        <td>491300</td>\n",
       "        <td>0</td>\n",
       "    </tr>\n",
       "    <tr>\n",
       "        <td>450</td>\n",
       "        <td>R0509875</td>\n",
       "        <td>1340 FOREST PARK CIR 2</td>\n",
       "        <td>2</td>\n",
       "        <td>0</td>\n",
       "        <td>7</td>\n",
       "        <td>0</td>\n",
       "        <td>1</td>\n",
       "        <td>2005</td>\n",
       "        <td>2</td>\n",
       "        <td>1</td>\n",
       "        <td>1</td>\n",
       "        <td>0</td>\n",
       "        <td>1720</td>\n",
       "        <td>0</td>\n",
       "        <td>0</td>\n",
       "        <td>504</td>\n",
       "        <td>0</td>\n",
       "        <td>0</td>\n",
       "        <td>0</td>\n",
       "        <td>2020-01-02</td>\n",
       "        <td>615000</td>\n",
       "        <td>0</td>\n",
       "        <td>464500</td>\n",
       "        <td>0</td>\n",
       "    </tr>\n",
       "    <tr>\n",
       "        <td>470</td>\n",
       "        <td>R0091942</td>\n",
       "        <td>957 CLOVER CIR </td>\n",
       "        <td>2</td>\n",
       "        <td>0</td>\n",
       "        <td>6</td>\n",
       "        <td>5</td>\n",
       "        <td>6</td>\n",
       "        <td>1983</td>\n",
       "        <td>4</td>\n",
       "        <td>1</td>\n",
       "        <td>1</td>\n",
       "        <td>0</td>\n",
       "        <td>924</td>\n",
       "        <td>484</td>\n",
       "        <td>0</td>\n",
       "        <td>440</td>\n",
       "        <td>0</td>\n",
       "        <td>0</td>\n",
       "        <td>0</td>\n",
       "        <td>2020-01-02</td>\n",
       "        <td>474000</td>\n",
       "        <td>139000</td>\n",
       "        <td>247000</td>\n",
       "        <td>0</td>\n",
       "    </tr>\n",
       "    <tr>\n",
       "        <td>135</td>\n",
       "        <td>R0113610</td>\n",
       "        <td>3260 47TH ST 105A</td>\n",
       "        <td>0</td>\n",
       "        <td>0</td>\n",
       "        <td>7</td>\n",
       "        <td>0</td>\n",
       "        <td>1</td>\n",
       "        <td>1984</td>\n",
       "        <td>1</td>\n",
       "        <td>1</td>\n",
       "        <td>0</td>\n",
       "        <td>0</td>\n",
       "        <td>757</td>\n",
       "        <td>0</td>\n",
       "        <td>0</td>\n",
       "        <td>153</td>\n",
       "        <td>0</td>\n",
       "        <td>0</td>\n",
       "        <td>0</td>\n",
       "        <td>2020-01-03</td>\n",
       "        <td>365000</td>\n",
       "        <td>0</td>\n",
       "        <td>361800</td>\n",
       "        <td>0</td>\n",
       "    </tr>\n",
       "</table>"
      ],
      "text/plain": [
       "[('103', 'R0071420', '1042 8TH ST ', 0, 1, 6, 5, 4, '2000', '5', '5', '0', '1', '2658', '1117', '625', '462', '0', '330', '0', '2020-01-02', '1842000', '1035000', '807000', '0'),\n",
       " ('107', 'R0000908', '2385 4TH ST ', 0, 0, 6, 5, 4, '1969', '4', '1', '2', '1', '2430', '617', '0', '536', '0', '0', '0', '2020-01-02', '1750000', '1102000', '915600', '0'),\n",
       " ('155', 'R0110294', '1486 SEIBERT CT ', 7, 0, 6, 5, 4, '1991', '4', '1', '2', '0', '2212', '316', '315', '680', '0', '0', '0', '2020-01-02', '610000', '358000', '256700', '0'),\n",
       " ('158', 'R0069754', '1400 ROCKMONT CIR ', 0, 0, 6, 5, 18, '1978', '3', '2', '0', '0', '1082', '552', '0', '460', '0', '0', '0', '2020-01-02', '1200000', '690000', '266000', '0'),\n",
       " ('440', 'R0126278', '1609 HOLEMAN DR ', 1, 0, 6, 5, 4, '1997', '4', '2', '1', '1', '1825', '572', '24', '440', '0', '0', '0', '2020-01-02', '450000', '76000', '385300', '0'),\n",
       " ('440', 'R0607799', '945 GRENVILLE CIR ', 1, 0, 6, 5, 4, '2019', '6', '2', '2', '1', '4356', '0', '1088', '764', '0', '0', '0', '2020-01-02', '696900', '99000', '561100', '0'),\n",
       " ('440', 'R0608732', '913 SANDSTONE CIR ', 1, 0, 6, 5, 4, '2019', '5', '4', '0', '0', '3084', '0', '1456', '700', '0', '0', '0', '2020-01-02', '654400', '87000', '491300', '0'),\n",
       " ('450', 'R0509875', '1340 FOREST PARK CIR 2', 2, 0, 7, 0, 1, '2005', '2', '1', '1', '0', '1720', '0', '0', '504', '0', '0', '0', '2020-01-02', '615000', '0', '464500', '0'),\n",
       " ('470', 'R0091942', '957 CLOVER CIR ', 2, 0, 6, 5, 6, '1983', '4', '1', '1', '0', '924', '484', '0', '440', '0', '0', '0', '2020-01-02', '474000', '139000', '247000', '0'),\n",
       " ('135', 'R0113610', '3260 47TH ST 105A', 0, 0, 7, 0, 1, '1984', '1', '1', '0', '0', '757', '0', '0', '153', '0', '0', '0', '2020-01-03', '365000', '0', '361800', '0')]"
      ]
     },
     "execution_count": 7,
     "metadata": {},
     "output_type": "execute_result"
    }
   ],
   "source": [
    "%sql SELECT * FROM res_info LIMIT 10"
   ]
  },
  {
   "cell_type": "markdown",
   "metadata": {},
   "source": [
    "###Demonstrating simple join with new relational database:"
   ]
  },
  {
   "cell_type": "code",
   "execution_count": 11,
   "metadata": {},
   "outputs": [
    {
     "name": "stdout",
     "output_type": "stream",
     "text": [
      " * sqlite:///res_data.db\n",
      "Done.\n"
     ]
    },
    {
     "data": {
      "text/html": [
       "<table>\n",
       "    <tr>\n",
       "        <th>PROPERTY_ADDRESS</th>\n",
       "        <th>city_name</th>\n",
       "        <th>acct_type_desc</th>\n",
       "    </tr>\n",
       "    <tr>\n",
       "        <td>1042 8TH ST </td>\n",
       "        <td>BOULDER</td>\n",
       "        <td>RESIDENTIAL</td>\n",
       "    </tr>\n",
       "    <tr>\n",
       "        <td>2385 4TH ST </td>\n",
       "        <td>BOULDER</td>\n",
       "        <td>RESIDENTIAL</td>\n",
       "    </tr>\n",
       "    <tr>\n",
       "        <td>1486 SEIBERT CT </td>\n",
       "        <td>SUPERIOR</td>\n",
       "        <td>RESIDENTIAL</td>\n",
       "    </tr>\n",
       "    <tr>\n",
       "        <td>1400 ROCKMONT CIR </td>\n",
       "        <td>BOULDER</td>\n",
       "        <td>RESIDENTIAL</td>\n",
       "    </tr>\n",
       "    <tr>\n",
       "        <td>1609 HOLEMAN DR </td>\n",
       "        <td>ERIE</td>\n",
       "        <td>RESIDENTIAL</td>\n",
       "    </tr>\n",
       "    <tr>\n",
       "        <td>945 GRENVILLE CIR </td>\n",
       "        <td>ERIE</td>\n",
       "        <td>RESIDENTIAL</td>\n",
       "    </tr>\n",
       "    <tr>\n",
       "        <td>913 SANDSTONE CIR </td>\n",
       "        <td>ERIE</td>\n",
       "        <td>RESIDENTIAL</td>\n",
       "    </tr>\n",
       "    <tr>\n",
       "        <td>1340 FOREST PARK CIR 2</td>\n",
       "        <td>LAFAYETTE</td>\n",
       "        <td>RESIDENTIAL CONDO</td>\n",
       "    </tr>\n",
       "    <tr>\n",
       "        <td>957 CLOVER CIR </td>\n",
       "        <td>LAFAYETTE</td>\n",
       "        <td>RESIDENTIAL</td>\n",
       "    </tr>\n",
       "    <tr>\n",
       "        <td>3260 47TH ST 105A</td>\n",
       "        <td>BOULDER</td>\n",
       "        <td>RESIDENTIAL CONDO</td>\n",
       "    </tr>\n",
       "</table>"
      ],
      "text/plain": [
       "[('1042 8TH ST ', 'BOULDER', 'RESIDENTIAL'),\n",
       " ('2385 4TH ST ', 'BOULDER', 'RESIDENTIAL'),\n",
       " ('1486 SEIBERT CT ', 'SUPERIOR', 'RESIDENTIAL'),\n",
       " ('1400 ROCKMONT CIR ', 'BOULDER', 'RESIDENTIAL'),\n",
       " ('1609 HOLEMAN DR ', 'ERIE', 'RESIDENTIAL'),\n",
       " ('945 GRENVILLE CIR ', 'ERIE', 'RESIDENTIAL'),\n",
       " ('913 SANDSTONE CIR ', 'ERIE', 'RESIDENTIAL'),\n",
       " ('1340 FOREST PARK CIR 2', 'LAFAYETTE', 'RESIDENTIAL CONDO'),\n",
       " ('957 CLOVER CIR ', 'LAFAYETTE', 'RESIDENTIAL'),\n",
       " ('3260 47TH ST 105A', 'BOULDER', 'RESIDENTIAL CONDO')]"
      ]
     },
     "execution_count": 11,
     "metadata": {},
     "output_type": "execute_result"
    }
   ],
   "source": [
    "%%sql\n",
    "SELECT r.property_address, c.city_name, a.acct_type_desc\n",
    "FROM res_info r\n",
    "JOIN city c\n",
    "ON r.loccity = c.city_code\n",
    "JOIN account_type a\n",
    "ON r.account_type = a.acct_type_code\n",
    "LIMIT 10"
   ]
  }
 ],
 "metadata": {
  "kernelspec": {
   "display_name": "Python 3",
   "language": "python",
   "name": "python3"
  },
  "language_info": {
   "codemirror_mode": {
    "name": "ipython",
    "version": 3
   },
   "file_extension": ".py",
   "mimetype": "text/x-python",
   "name": "python",
   "nbconvert_exporter": "python",
   "pygments_lexer": "ipython3",
   "version": "3.8.5"
  }
 },
 "nbformat": 4,
 "nbformat_minor": 4
}
